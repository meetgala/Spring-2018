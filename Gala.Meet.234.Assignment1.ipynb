{
 "cells": [
  {
   "cell_type": "code",
   "execution_count": null,
   "metadata": {},
   "outputs": [],
   "source": [
    "import pandas as pd\n",
    "import numpy as np\n",
    "import matplotlib.pyplot as plt\n",
    "import math\n",
    "import statistics\n",
    "import scipy.linalg\n",
    "from array import array\n",
    "%matplotlib inline\n",
    "\n",
    "\n",
    "#function definitions\n",
    "#  this function returns a list with simulated Brownian process from time 0 to 1 with N points in between\n",
    "def Brownian_motion(N):\n",
    "    t=[0]\n",
    "    Z=numpy.random.normal(0,1,N)\n",
    "    B=[0]\n",
    "    mean=[0]\n",
    "    \n",
    "    for i in range (0,N):\n",
    "        t.append((i+1)/N)\n",
    "        B.append(B[-1] + (Z[i]/(N)**(1/2)))\n",
    "        mean.append(sum(B)/len(B))\n",
    "    Brownian = pd.DataFrame(mean,t)\n",
    "    return B\n",
    "\n",
    "\n",
    "\n"
   ]
  },
  {
   "cell_type": "code",
   "execution_count": null,
   "metadata": {},
   "outputs": [],
   "source": [
    "# here we simulate 100 instances of Brownian motion from time 0 to 1, and create a dataframe.\n",
    "\n",
    "A= np.matrix([Brownian_motion(1000)])\n",
    "for i in range (99):\n",
    "    A=numpy.vstack([A, Brownian_motion(1000)])\n",
    "\n",
    "A=pd.DataFrame(A.T)\n",
    "\n",
    "# we then define the time and the confidence interval that we should expect from brownian motion. (the variance equals the time passed)\n",
    "t= [x/1000 for x in range(1001)]\n",
    "A['Time']= t\n",
    "A['90% interval']= 1.645*numpy.sqrt(A['Time'])\n",
    "A['95% interval']= 1.96*numpy.sqrt(A['Time'])\n",
    "A['80% interval']= 1.282*numpy.sqrt(A['Time'])\n"
   ]
  },
  {
   "cell_type": "code",
   "execution_count": null,
   "metadata": {},
   "outputs": [],
   "source": [
    "line = plt.figure()\n",
    "import seaborn; seaborn.set()  # set plot style\n",
    "from IPython.core.pylabtools import figsize\n",
    "figsize(11, 9)\n",
    "# plotting 30 simulations of Brownin motion (Most lie within confidence intervals, as expected)\n",
    "for i in range (30):\n",
    "    y=A[i]\n",
    "    x=A[\"Time\"]\n",
    "    plt.plot(x, y, \"o\")\n",
    "    \n",
    "plt.plot((A['Time']),  A['90% interval'], '--r')\n",
    "plt.plot((A['Time']),  A['95% interval'], '--g')\n",
    "plt.plot((A['Time']),  A['80% interval'], '--b')\n",
    "plt.plot((A['Time']),  -A['90% interval'], '--r')\n",
    "plt.plot((A['Time']),  -A['95% interval'], '--g')\n",
    "plt.plot((A['Time']),  -A['80% interval'], '--b')\n",
    "plt.xlabel(\"Time in Seconds\");\n",
    "plt.ylabel(\"Brownian motion Path\");"
   ]
  },
  {
   "cell_type": "code",
   "execution_count": null,
   "metadata": {},
   "outputs": [],
   "source": [
    "line = plt.figure()\n",
    "import seaborn; seaborn.set()  # set plot style\n",
    "from IPython.core.pylabtools import figsize\n",
    "figsize(11, 9)\n",
    "y=A.T[100][0:99]\n",
    "plt.hist( y)\n",
    "plt.xlabel(\"B (1)\");\n",
    "plt.ylabel(\"Histogram of Brownian motion at time 1\");"
   ]
  }
 ],
 "metadata": {
  "language_info": {
   "name": "python",
   "pygments_lexer": "ipython3"
  }
 },
 "nbformat": 4,
 "nbformat_minor": 2
}
